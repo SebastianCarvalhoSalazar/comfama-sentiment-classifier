{
 "cells": [
  {
   "cell_type": "markdown",
   "metadata": {},
   "source": [
    "<div align=\"center\">\n",
    "\n",
    "# 📝 Sentiment Classifier MLOps Pipeline\n",
    "\n",
    "<img src=\"https://img.shields.io/badge/Python-3.8+-blue.svg\" alt=\"Python\">\n",
    "<img src=\"https://img.shields.io/badge/scikit--learn-0.24+-orange.svg\" alt=\"Scikit-learn\">\n",
    "<img src=\"https://img.shields.io/badge/Status-Draft-orange.svg\" alt=\"Status\">\n",
    "\n",
    "---\n",
    "\n",
    "### 📊 Machine Learning Pipeline for Sentiment Analysis\n",
    "\n",
    "---\n",
    "\n",
    "## **Author:** Sebastian Carvalho Salazar — Machine Learning Engineer\n",
    "### **Date:** September 2025  \n",
    "### **Version:** 1.0.0\n",
    "\n",
    "---\n",
    "\n",
    "</div>"
   ]
  },
  {
   "cell_type": "markdown",
   "metadata": {},
   "source": [
    "# Experiments\n",
    "---"
   ]
  },
  {
   "cell_type": "code",
   "execution_count": 9,
   "metadata": {},
   "outputs": [],
   "source": [
    "import numpy as np\n",
    "import pandas as pd\n",
    "import matplotlib.pyplot as plt\n",
    "import seaborn as sns\n",
    "import json\n",
    "\n",
    "from nltk.corpus import stopwords\n",
    "from nltk.tokenize import word_tokenize\n",
    "import re\n",
    "from typing import List, Tuple, Dict\n",
    "from sklearn.model_selection import train_test_split"
   ]
  },
  {
   "cell_type": "code",
   "execution_count": 10,
   "metadata": {},
   "outputs": [
    {
     "data": {
      "application/vnd.microsoft.datawrangler.viewer.v0+json": {
       "columns": [
        {
         "name": "index",
         "rawType": "int64",
         "type": "integer"
        },
        {
         "name": "producto",
         "rawType": "object",
         "type": "string"
        },
        {
         "name": "sentimiento",
         "rawType": "object",
         "type": "string"
        },
        {
         "name": "reseña",
         "rawType": "object",
         "type": "string"
        }
       ],
       "ref": "d55fdc2e-780f-40a1-af7e-7fc274502594",
       "rows": [
        [
         "263",
         "Teclado",
         "positivo",
         "Encantado con mi nuevo Teclado, vale cada peso invertido."
        ],
        [
         "688",
         "Tablet",
         "negativo",
         "Problemas constantes con el Tablet, mala experiencia de compra."
        ],
        [
         "472",
         "Monitor",
         "negativo",
         "Problemas constantes con el Monitor, mala experiencia de compra."
        ],
        [
         "723",
         "Laptop",
         "negativo",
         "Problemas constantes con el Laptop, mala experiencia de compra. Tuvo que ser reemplazado por garantía."
        ],
        [
         "98",
         "Monitor",
         "positivo",
         "Encantado con mi nuevo Monitor, vale cada peso invertido."
        ]
       ],
       "shape": {
        "columns": 3,
        "rows": 5
       }
      },
      "text/html": [
       "<div>\n",
       "<style scoped>\n",
       "    .dataframe tbody tr th:only-of-type {\n",
       "        vertical-align: middle;\n",
       "    }\n",
       "\n",
       "    .dataframe tbody tr th {\n",
       "        vertical-align: top;\n",
       "    }\n",
       "\n",
       "    .dataframe thead th {\n",
       "        text-align: right;\n",
       "    }\n",
       "</style>\n",
       "<table border=\"1\" class=\"dataframe\">\n",
       "  <thead>\n",
       "    <tr style=\"text-align: right;\">\n",
       "      <th></th>\n",
       "      <th>producto</th>\n",
       "      <th>sentimiento</th>\n",
       "      <th>reseña</th>\n",
       "    </tr>\n",
       "  </thead>\n",
       "  <tbody>\n",
       "    <tr>\n",
       "      <th>263</th>\n",
       "      <td>Teclado</td>\n",
       "      <td>positivo</td>\n",
       "      <td>Encantado con mi nuevo Teclado, vale cada peso...</td>\n",
       "    </tr>\n",
       "    <tr>\n",
       "      <th>688</th>\n",
       "      <td>Tablet</td>\n",
       "      <td>negativo</td>\n",
       "      <td>Problemas constantes con el Tablet, mala exper...</td>\n",
       "    </tr>\n",
       "    <tr>\n",
       "      <th>472</th>\n",
       "      <td>Monitor</td>\n",
       "      <td>negativo</td>\n",
       "      <td>Problemas constantes con el Monitor, mala expe...</td>\n",
       "    </tr>\n",
       "    <tr>\n",
       "      <th>723</th>\n",
       "      <td>Laptop</td>\n",
       "      <td>negativo</td>\n",
       "      <td>Problemas constantes con el Laptop, mala exper...</td>\n",
       "    </tr>\n",
       "    <tr>\n",
       "      <th>98</th>\n",
       "      <td>Monitor</td>\n",
       "      <td>positivo</td>\n",
       "      <td>Encantado con mi nuevo Monitor, vale cada peso...</td>\n",
       "    </tr>\n",
       "  </tbody>\n",
       "</table>\n",
       "</div>"
      ],
      "text/plain": [
       "    producto sentimiento                                             reseña\n",
       "263  Teclado    positivo  Encantado con mi nuevo Teclado, vale cada peso...\n",
       "688   Tablet    negativo  Problemas constantes con el Tablet, mala exper...\n",
       "472  Monitor    negativo  Problemas constantes con el Monitor, mala expe...\n",
       "723   Laptop    negativo  Problemas constantes con el Laptop, mala exper...\n",
       "98   Monitor    positivo  Encantado con mi nuevo Monitor, vale cada peso..."
      ]
     },
     "execution_count": 10,
     "metadata": {},
     "output_type": "execute_result"
    }
   ],
   "source": [
    "dataset_path = \"../data/reseñas_productos_sintetico.json\"\n",
    "\n",
    "with open(dataset_path, \"r\", encoding=\"utf-8\") as f:\n",
    "    json_data = json.load(f)\n",
    "\n",
    "df = pd.DataFrame(json_data)\n",
    "\n",
    "df.sample(5)"
   ]
  },
  {
   "cell_type": "code",
   "execution_count": 11,
   "metadata": {},
   "outputs": [
    {
     "data": {
      "application/vnd.microsoft.datawrangler.viewer.v0+json": {
       "columns": [
        {
         "name": "index",
         "rawType": "object",
         "type": "string"
        },
        {
         "name": "producto",
         "rawType": "object",
         "type": "string"
        },
        {
         "name": "sentimiento",
         "rawType": "object",
         "type": "string"
        },
        {
         "name": "reseña",
         "rawType": "object",
         "type": "string"
        }
       ],
       "ref": "ede1cb88-21b5-4c7e-b8ec-74a7f9c7df99",
       "rows": [
        [
         "count",
         "1000",
         "1000",
         "1000"
        ],
        [
         "unique",
         "10",
         "3",
         "166"
        ],
        [
         "top",
         "Monitor",
         "positivo",
         "Funciona de maravilla, el Monitor es rápido y confiable."
        ],
        [
         "freq",
         "129",
         "520",
         "27"
        ]
       ],
       "shape": {
        "columns": 3,
        "rows": 4
       }
      },
      "text/html": [
       "<div>\n",
       "<style scoped>\n",
       "    .dataframe tbody tr th:only-of-type {\n",
       "        vertical-align: middle;\n",
       "    }\n",
       "\n",
       "    .dataframe tbody tr th {\n",
       "        vertical-align: top;\n",
       "    }\n",
       "\n",
       "    .dataframe thead th {\n",
       "        text-align: right;\n",
       "    }\n",
       "</style>\n",
       "<table border=\"1\" class=\"dataframe\">\n",
       "  <thead>\n",
       "    <tr style=\"text-align: right;\">\n",
       "      <th></th>\n",
       "      <th>producto</th>\n",
       "      <th>sentimiento</th>\n",
       "      <th>reseña</th>\n",
       "    </tr>\n",
       "  </thead>\n",
       "  <tbody>\n",
       "    <tr>\n",
       "      <th>count</th>\n",
       "      <td>1000</td>\n",
       "      <td>1000</td>\n",
       "      <td>1000</td>\n",
       "    </tr>\n",
       "    <tr>\n",
       "      <th>unique</th>\n",
       "      <td>10</td>\n",
       "      <td>3</td>\n",
       "      <td>166</td>\n",
       "    </tr>\n",
       "    <tr>\n",
       "      <th>top</th>\n",
       "      <td>Monitor</td>\n",
       "      <td>positivo</td>\n",
       "      <td>Funciona de maravilla, el Monitor es rápido y ...</td>\n",
       "    </tr>\n",
       "    <tr>\n",
       "      <th>freq</th>\n",
       "      <td>129</td>\n",
       "      <td>520</td>\n",
       "      <td>27</td>\n",
       "    </tr>\n",
       "  </tbody>\n",
       "</table>\n",
       "</div>"
      ],
      "text/plain": [
       "       producto sentimiento                                             reseña\n",
       "count      1000        1000                                               1000\n",
       "unique       10           3                                                166\n",
       "top     Monitor    positivo  Funciona de maravilla, el Monitor es rápido y ...\n",
       "freq        129         520                                                 27"
      ]
     },
     "execution_count": 11,
     "metadata": {},
     "output_type": "execute_result"
    }
   ],
   "source": [
    "df.describe()"
   ]
  },
  {
   "cell_type": "code",
   "execution_count": 12,
   "metadata": {},
   "outputs": [
    {
     "data": {
      "application/vnd.microsoft.datawrangler.viewer.v0+json": {
       "columns": [
        {
         "name": "index",
         "rawType": "object",
         "type": "string"
        },
        {
         "name": "0",
         "rawType": "object",
         "type": "string"
        }
       ],
       "ref": "31f0a0d8-d5b5-45df-b4c8-ab8d249b9ee7",
       "rows": [
        [
         "producto",
         "object"
        ],
        [
         "sentimiento",
         "object"
        ],
        [
         "reseña",
         "object"
        ]
       ],
       "shape": {
        "columns": 1,
        "rows": 3
       }
      },
      "text/plain": [
       "producto       object\n",
       "sentimiento    object\n",
       "reseña         object\n",
       "dtype: object"
      ]
     },
     "execution_count": 12,
     "metadata": {},
     "output_type": "execute_result"
    }
   ],
   "source": [
    "df.dtypes"
   ]
  },
  {
   "cell_type": "code",
   "execution_count": 13,
   "metadata": {},
   "outputs": [
    {
     "data": {
      "image/png": "[encoded data removed]",
      "text/plain": [
       "<Figure size 800x500 with 1 Axes>"
      ]
     },
     "metadata": {},
     "output_type": "display_data"
    }
   ],
   "source": [
    "plt.figure(figsize=(8,5))\n",
    "\n",
    "# Countplot\n",
    "sns.countplot(\n",
    "    data=df,\n",
    "    x='sentimiento',\n",
    "    hue='sentimiento',\n",
    "    palette='viridis',\n",
    "    dodge=False,\n",
    "    legend=False\n",
    ")\n",
    "\n",
    "plt.title(\"Conteo de Clases en la Columna 'sentimiento'\")\n",
    "plt.xlabel(\"Sentiment\")\n",
    "plt.ylabel(\"Cantidad de Reviews\")\n",
    "plt.show()"
   ]
  },
  {
   "cell_type": "markdown",
   "metadata": {},
   "source": [
    "# Sensurar Producto\n",
    "---"
   ]
  },
  {
   "cell_type": "code",
   "execution_count": 14,
   "metadata": {},
   "outputs": [],
   "source": [
    "import sys\n",
    "sys.path.append('../')\n",
    "from src.utils import clean_text, load_product_reviews, prepare_data"
   ]
  },
  {
   "cell_type": "code",
   "execution_count": 15,
   "metadata": {},
   "outputs": [
    {
     "name": "stdout",
     "output_type": "stream",
     "text": [
      "✓ Dataset cargado con éxito desde: ../data/reseñas_productos_sintetico.json\n",
      "  - Total de reseñas: 1000\n",
      "  - Productos únicos: 10\n",
      "  - Distribución de sentimientos:\n",
      "    • positivo: 520 (52.0%)\n",
      "    • negativo: 277 (27.7%)\n",
      "    • neutro: 203 (20.3%)\n",
      "\n",
      "Limpiando texto...\n",
      "                                         reseña_limpia\n",
      "254  aceptable cumple prometido sobresaliente ser r...\n",
      "6                   decepcionado dejó funcionar semana\n",
      "19   funciona maravilla rápido confiable incluía ac...\n",
      "558  superó expectativas excelente calidad buen ren...\n",
      "364       recomiendo calidad deja desear llegó rasguño\n",
      "164   decepcionado dejó funcionar semana entrega lenta\n",
      "1             aceptable cumple prometido sobresaliente\n",
      "331  problemas constantes mala experiencia compra e...\n",
      "65   funciona maravilla rápido confiable llegó rasguño\n",
      "7         problemas constantes mala experiencia compra\n",
      "\n",
      "✓ Datos preparados:\n",
      "  - Datos de entrenamiento: 33 muestras\n",
      "  - Datos de prueba: 9 muestras\n",
      "\n",
      "  Balance de clases en entrenamiento:\n",
      "    • negativo: 12 (36.4%)\n",
      "    • neutro: 11 (33.3%)\n",
      "    • positivo: 10 (30.3%)\n",
      "\n",
      "  Balance de clases en prueba:\n",
      "    • negativo: 3 (33.3%)\n",
      "    • positivo: 3 (33.3%)\n",
      "    • neutro: 3 (33.3%)\n"
     ]
    }
   ],
   "source": [
    "# Mapeo de sentimientos a valores numéricos\n",
    "SENTIMENT_MAPPING = {\n",
    "    'positivo': 2,\n",
    "    'neutro': 1,\n",
    "    'negativo': 0\n",
    "}\n",
    "\n",
    "SENTIMENT_NORMALIZATION = {\n",
    "    'positivo': 'positivo',\n",
    "    'positive': 'positivo',\n",
    "    'neutro': 'neutro',\n",
    "    'neutral': 'neutro',\n",
    "    'negativo': 'negativo',\n",
    "    'negative': 'negativo'\n",
    "}\n",
    "\n",
    "df = load_product_reviews(data_path='../data/reseñas_productos_sintetico.json')\n",
    "train_df, test_df = prepare_data(df, test_size=0.2)"
   ]
  },
  {
   "cell_type": "code",
   "execution_count": 16,
   "metadata": {},
   "outputs": [
    {
     "data": {
      "application/vnd.microsoft.datawrangler.viewer.v0+json": {
       "columns": [
        {
         "name": "index",
         "rawType": "int64",
         "type": "integer"
        },
        {
         "name": "producto",
         "rawType": "object",
         "type": "string"
        },
        {
         "name": "sentimiento",
         "rawType": "object",
         "type": "string"
        },
        {
         "name": "reseña",
         "rawType": "object",
         "type": "string"
        },
        {
         "name": "reseña_limpia",
         "rawType": "object",
         "type": "string"
        },
        {
         "name": "sentimiento_numerico",
         "rawType": "int64",
         "type": "integer"
        }
       ],
       "ref": "1b094c36-79d3-42e1-be7b-553d7712eeeb",
       "rows": [
        [
         "912",
         "Teclado",
         "positivo",
         "Funciona de maravilla, el Teclado es rápido y confiable. La entrega fue muy lenta.",
         "funciona maravilla rápido confiable entrega lenta",
         "2"
        ],
        [
         "149",
         "Altavoces",
         "neutro",
         "El Altavoces es aceptable, cumple con lo prometido pero nada sobresaliente. Incluía accesorios extra.",
         "aceptable cumple prometido sobresaliente incluía accesorios extra",
         "1"
        ],
        [
         "0",
         "Auriculares",
         "positivo",
         "Funciona de maravilla, el Auriculares es rápido y confiable.",
         "funciona maravilla rápido confiable",
         "2"
        ],
        [
         "49",
         "Laptop",
         "neutro",
         "El Laptop es aceptable, cumple con lo prometido pero nada sobresaliente. Me llegó con un rasguño.",
         "aceptable cumple prometido sobresaliente llegó rasguño",
         "1"
        ],
        [
         "45",
         "Cámara",
         "negativo",
         "Problemas constantes con el Cámara, mala experiencia de compra. Tuvo que ser reemplazado por garantía.",
         "problemas constantes mala experiencia compra ser reemplazado garantía",
         "0"
        ],
        [
         "109",
         "Impresora",
         "neutro",
         "Cumple su función básica, el Impresora no destaca en nada. La entrega fue muy lenta.",
         "cumple función básica destaca entrega lenta",
         "1"
        ],
        [
         "331",
         "Impresora",
         "negativo",
         "Problemas constantes con el Impresora, mala experiencia de compra. La entrega fue muy lenta.",
         "problemas constantes mala experiencia compra entrega lenta",
         "0"
        ],
        [
         "168",
         "Teclado",
         "negativo",
         "No recomiendo este Teclado, la calidad deja mucho que desear. Tuvo que ser reemplazado por garantía.",
         "recomiendo calidad deja desear ser reemplazado garantía",
         "0"
        ],
        [
         "254",
         "Smartwatch",
         "neutro",
         "El Smartwatch es aceptable, cumple con lo prometido pero nada sobresaliente. Tuvo que ser reemplazado por garantía.",
         "aceptable cumple prometido sobresaliente ser reemplazado garantía",
         "1"
        ],
        [
         "5",
         "Tablet",
         "positivo",
         "Encantado con mi nuevo Tablet, vale cada peso invertido.",
         "encantado nuevo vale cada peso invertido",
         "2"
        ],
        [
         "540",
         "Altavoces",
         "neutro",
         "Cumple su función básica, el Altavoces no destaca en nada. Me llegó con un rasguño.",
         "cumple función básica destaca llegó rasguño",
         "1"
        ],
        [
         "558",
         "Smartphone",
         "positivo",
         "El Smartphone superó mis expectativas, excelente calidad y muy buen rendimiento. Tuvo que ser reemplazado por garantía.",
         "superó expectativas excelente calidad buen rendimiento ser reemplazado garantía",
         "2"
        ],
        [
         "360",
         "Auriculares",
         "negativo",
         "Muy decepcionado con el Auriculares, dejó de funcionar a la semana. Tuvo que ser reemplazado por garantía.",
         "decepcionado dejó funcionar semana ser reemplazado garantía",
         "0"
        ],
        [
         "262",
         "Smartphone",
         "positivo",
         "Funciona de maravilla, el Smartphone es rápido y confiable. Tuvo que ser reemplazado por garantía.",
         "funciona maravilla rápido confiable ser reemplazado garantía",
         "2"
        ],
        [
         "6",
         "Altavoces",
         "negativo",
         "Muy decepcionado con el Altavoces, dejó de funcionar a la semana.",
         "decepcionado dejó funcionar semana",
         "0"
        ],
        [
         "299",
         "Smartwatch",
         "neutro",
         "Un Smartwatch promedio, ni muy bueno ni muy malo. Me llegó con un rasguño.",
         "promedio bueno malo llegó rasguño",
         "1"
        ],
        [
         "364",
         "Smartwatch",
         "negativo",
         "No recomiendo este Smartwatch, la calidad deja mucho que desear. Me llegó con un rasguño.",
         "recomiendo calidad deja desear llegó rasguño",
         "0"
        ],
        [
         "65",
         "Monitor",
         "positivo",
         "Funciona de maravilla, el Monitor es rápido y confiable. Me llegó con un rasguño.",
         "funciona maravilla rápido confiable llegó rasguño",
         "2"
        ],
        [
         "1",
         "Altavoces",
         "neutro",
         "El Altavoces es aceptable, cumple con lo prometido pero nada sobresaliente.",
         "aceptable cumple prometido sobresaliente",
         "1"
        ],
        [
         "413",
         "Cámara",
         "negativo",
         "No recomiendo este Cámara, la calidad deja mucho que desear. La entrega fue muy lenta.",
         "recomiendo calidad deja desear entrega lenta",
         "0"
        ],
        [
         "2",
         "Altavoces",
         "positivo",
         "El Altavoces superó mis expectativas, excelente calidad y muy buen rendimiento.",
         "superó expectativas excelente calidad buen rendimiento",
         "2"
        ],
        [
         "19",
         "Monitor",
         "positivo",
         "Funciona de maravilla, el Monitor es rápido y confiable. Incluía accesorios extra.",
         "funciona maravilla rápido confiable incluía accesorios extra",
         "2"
        ],
        [
         "153",
         "Smartphone",
         "positivo",
         "El Smartphone superó mis expectativas, excelente calidad y muy buen rendimiento. Incluía accesorios extra.",
         "superó expectativas excelente calidad buen rendimiento incluía accesorios extra",
         "2"
        ],
        [
         "492",
         "Altavoces",
         "neutro",
         "Un Altavoces promedio, ni muy bueno ni muy malo. Incluía accesorios extra.",
         "promedio bueno malo incluía accesorios extra",
         "1"
        ],
        [
         "852",
         "Auriculares",
         "negativo",
         "No recomiendo este Auriculares, la calidad deja mucho que desear. Incluía accesorios extra.",
         "recomiendo calidad deja desear incluía accesorios extra",
         "0"
        ],
        [
         "300",
         "Auriculares",
         "neutro",
         "El Auriculares es aceptable, cumple con lo prometido pero nada sobresaliente. La entrega fue muy lenta.",
         "aceptable cumple prometido sobresaliente entrega lenta",
         "1"
        ],
        [
         "248",
         "Impresora",
         "positivo",
         "Encantado con mi nuevo Impresora, vale cada peso invertido. Incluía accesorios extra.",
         "encantado nuevo vale cada peso invertido incluía accesorios extra",
         "2"
        ],
        [
         "910",
         "Tablet",
         "negativo",
         "Problemas constantes con el Tablet, mala experiencia de compra. Me llegó con un rasguño.",
         "problemas constantes mala experiencia compra llegó rasguño",
         "0"
        ],
        [
         "8",
         "Laptop",
         "neutro",
         "Cumple su función básica, el Laptop no destaca en nada.",
         "cumple función básica destaca",
         "1"
        ],
        [
         "7",
         "Laptop",
         "negativo",
         "Problemas constantes con el Laptop, mala experiencia de compra.",
         "problemas constantes mala experiencia compra",
         "0"
        ],
        [
         "20",
         "Cámara",
         "neutro",
         "Un Cámara promedio, ni muy bueno ni muy malo. La entrega fue muy lenta.",
         "promedio bueno malo entrega lenta",
         "1"
        ],
        [
         "100",
         "Teclado",
         "negativo",
         "Muy decepcionado con el Teclado, dejó de funcionar a la semana. Incluía accesorios extra.",
         "decepcionado dejó funcionar semana incluía accesorios extra",
         "0"
        ],
        [
         "4",
         "Tablet",
         "negativo",
         "Problemas constantes con el Tablet, mala experiencia de compra. Incluía accesorios extra.",
         "problemas constantes mala experiencia compra incluía accesorios extra",
         "0"
        ]
       ],
       "shape": {
        "columns": 5,
        "rows": 33
       }
      },
      "text/html": [
       "<div>\n",
       "<style scoped>\n",
       "    .dataframe tbody tr th:only-of-type {\n",
       "        vertical-align: middle;\n",
       "    }\n",
       "\n",
       "    .dataframe tbody tr th {\n",
       "        vertical-align: top;\n",
       "    }\n",
       "\n",
       "    .dataframe thead th {\n",
       "        text-align: right;\n",
       "    }\n",
       "</style>\n",
       "<table border=\"1\" class=\"dataframe\">\n",
       "  <thead>\n",
       "    <tr style=\"text-align: right;\">\n",
       "      <th></th>\n",
       "      <th>producto</th>\n",
       "      <th>sentimiento</th>\n",
       "      <th>reseña</th>\n",
       "      <th>reseña_limpia</th>\n",
       "      <th>sentimiento_numerico</th>\n",
       "    </tr>\n",
       "  </thead>\n",
       "  <tbody>\n",
       "    <tr>\n",
       "      <th>912</th>\n",
       "      <td>Teclado</td>\n",
       "      <td>positivo</td>\n",
       "      <td>Funciona de maravilla, el Teclado es rápido y ...</td>\n",
       "      <td>funciona maravilla rápido confiable entrega lenta</td>\n",
       "      <td>2</td>\n",
       "    </tr>\n",
       "    <tr>\n",
       "      <th>149</th>\n",
       "      <td>Altavoces</td>\n",
       "      <td>neutro</td>\n",
       "      <td>El Altavoces es aceptable, cumple con lo prome...</td>\n",
       "      <td>aceptable cumple prometido sobresaliente inclu...</td>\n",
       "      <td>1</td>\n",
       "    </tr>\n",
       "    <tr>\n",
       "      <th>0</th>\n",
       "      <td>Auriculares</td>\n",
       "      <td>positivo</td>\n",
       "      <td>Funciona de maravilla, el Auriculares es rápid...</td>\n",
       "      <td>funciona maravilla rápido confiable</td>\n",
       "      <td>2</td>\n",
       "    </tr>\n",
       "    <tr>\n",
       "      <th>49</th>\n",
       "      <td>Laptop</td>\n",
       "      <td>neutro</td>\n",
       "      <td>El Laptop es aceptable, cumple con lo prometid...</td>\n",
       "      <td>aceptable cumple prometido sobresaliente llegó...</td>\n",
       "      <td>1</td>\n",
       "    </tr>\n",
       "    <tr>\n",
       "      <th>45</th>\n",
       "      <td>Cámara</td>\n",
       "      <td>negativo</td>\n",
       "      <td>Problemas constantes con el Cámara, mala exper...</td>\n",
       "      <td>problemas constantes mala experiencia compra s...</td>\n",
       "      <td>0</td>\n",
       "    </tr>\n",
       "    <tr>\n",
       "      <th>109</th>\n",
       "      <td>Impresora</td>\n",
       "      <td>neutro</td>\n",
       "      <td>Cumple su función básica, el Impresora no dest...</td>\n",
       "      <td>cumple función básica destaca entrega lenta</td>\n",
       "      <td>1</td>\n",
       "    </tr>\n",
       "    <tr>\n",
       "      <th>331</th>\n",
       "      <td>Impresora</td>\n",
       "      <td>negativo</td>\n",
       "      <td>Problemas constantes con el Impresora, mala ex...</td>\n",
       "      <td>problemas constantes mala experiencia compra e...</td>\n",
       "      <td>0</td>\n",
       "    </tr>\n",
       "    <tr>\n",
       "      <th>168</th>\n",
       "      <td>Teclado</td>\n",
       "      <td>negativo</td>\n",
       "      <td>No recomiendo este Teclado, la calidad deja mu...</td>\n",
       "      <td>recomiendo calidad deja desear ser reemplazado...</td>\n",
       "      <td>0</td>\n",
       "    </tr>\n",
       "    <tr>\n",
       "      <th>254</th>\n",
       "      <td>Smartwatch</td>\n",
       "      <td>neutro</td>\n",
       "      <td>El Smartwatch es aceptable, cumple con lo prom...</td>\n",
       "      <td>aceptable cumple prometido sobresaliente ser r...</td>\n",
       "      <td>1</td>\n",
       "    </tr>\n",
       "    <tr>\n",
       "      <th>5</th>\n",
       "      <td>Tablet</td>\n",
       "      <td>positivo</td>\n",
       "      <td>Encantado con mi nuevo Tablet, vale cada peso ...</td>\n",
       "      <td>encantado nuevo vale cada peso invertido</td>\n",
       "      <td>2</td>\n",
       "    </tr>\n",
       "    <tr>\n",
       "      <th>540</th>\n",
       "      <td>Altavoces</td>\n",
       "      <td>neutro</td>\n",
       "      <td>Cumple su función básica, el Altavoces no dest...</td>\n",
       "      <td>cumple función básica destaca llegó rasguño</td>\n",
       "      <td>1</td>\n",
       "    </tr>\n",
       "    <tr>\n",
       "      <th>558</th>\n",
       "      <td>Smartphone</td>\n",
       "      <td>positivo</td>\n",
       "      <td>El Smartphone superó mis expectativas, excelen...</td>\n",
       "      <td>superó expectativas excelente calidad buen ren...</td>\n",
       "      <td>2</td>\n",
       "    </tr>\n",
       "    <tr>\n",
       "      <th>360</th>\n",
       "      <td>Auriculares</td>\n",
       "      <td>negativo</td>\n",
       "      <td>Muy decepcionado con el Auriculares, dejó de f...</td>\n",
       "      <td>decepcionado dejó funcionar semana ser reempla...</td>\n",
       "      <td>0</td>\n",
       "    </tr>\n",
       "    <tr>\n",
       "      <th>262</th>\n",
       "      <td>Smartphone</td>\n",
       "      <td>positivo</td>\n",
       "      <td>Funciona de maravilla, el Smartphone es rápido...</td>\n",
       "      <td>funciona maravilla rápido confiable ser reempl...</td>\n",
       "      <td>2</td>\n",
       "    </tr>\n",
       "    <tr>\n",
       "      <th>6</th>\n",
       "      <td>Altavoces</td>\n",
       "      <td>negativo</td>\n",
       "      <td>Muy decepcionado con el Altavoces, dejó de fun...</td>\n",
       "      <td>decepcionado dejó funcionar semana</td>\n",
       "      <td>0</td>\n",
       "    </tr>\n",
       "    <tr>\n",
       "      <th>299</th>\n",
       "      <td>Smartwatch</td>\n",
       "      <td>neutro</td>\n",
       "      <td>Un Smartwatch promedio, ni muy bueno ni muy ma...</td>\n",
       "      <td>promedio bueno malo llegó rasguño</td>\n",
       "      <td>1</td>\n",
       "    </tr>\n",
       "    <tr>\n",
       "      <th>364</th>\n",
       "      <td>Smartwatch</td>\n",
       "      <td>negativo</td>\n",
       "      <td>No recomiendo este Smartwatch, la calidad deja...</td>\n",
       "      <td>recomiendo calidad deja desear llegó rasguño</td>\n",
       "      <td>0</td>\n",
       "    </tr>\n",
       "    <tr>\n",
       "      <th>65</th>\n",
       "      <td>Monitor</td>\n",
       "      <td>positivo</td>\n",
       "      <td>Funciona de maravilla, el Monitor es rápido y ...</td>\n",
       "      <td>funciona maravilla rápido confiable llegó rasguño</td>\n",
       "      <td>2</td>\n",
       "    </tr>\n",
       "    <tr>\n",
       "      <th>1</th>\n",
       "      <td>Altavoces</td>\n",
       "      <td>neutro</td>\n",
       "      <td>El Altavoces es aceptable, cumple con lo prome...</td>\n",
       "      <td>aceptable cumple prometido sobresaliente</td>\n",
       "      <td>1</td>\n",
       "    </tr>\n",
       "    <tr>\n",
       "      <th>413</th>\n",
       "      <td>Cámara</td>\n",
       "      <td>negativo</td>\n",
       "      <td>No recomiendo este Cámara, la calidad deja muc...</td>\n",
       "      <td>recomiendo calidad deja desear entrega lenta</td>\n",
       "      <td>0</td>\n",
       "    </tr>\n",
       "    <tr>\n",
       "      <th>2</th>\n",
       "      <td>Altavoces</td>\n",
       "      <td>positivo</td>\n",
       "      <td>El Altavoces superó mis expectativas, excelent...</td>\n",
       "      <td>superó expectativas excelente calidad buen ren...</td>\n",
       "      <td>2</td>\n",
       "    </tr>\n",
       "    <tr>\n",
       "      <th>19</th>\n",
       "      <td>Monitor</td>\n",
       "      <td>positivo</td>\n",
       "      <td>Funciona de maravilla, el Monitor es rápido y ...</td>\n",
       "      <td>funciona maravilla rápido confiable incluía ac...</td>\n",
       "      <td>2</td>\n",
       "    </tr>\n",
       "    <tr>\n",
       "      <th>153</th>\n",
       "      <td>Smartphone</td>\n",
       "      <td>positivo</td>\n",
       "      <td>El Smartphone superó mis expectativas, excelen...</td>\n",
       "      <td>superó expectativas excelente calidad buen ren...</td>\n",
       "      <td>2</td>\n",
       "    </tr>\n",
       "    <tr>\n",
       "      <th>492</th>\n",
       "      <td>Altavoces</td>\n",
       "      <td>neutro</td>\n",
       "      <td>Un Altavoces promedio, ni muy bueno ni muy mal...</td>\n",
       "      <td>promedio bueno malo incluía accesorios extra</td>\n",
       "      <td>1</td>\n",
       "    </tr>\n",
       "    <tr>\n",
       "      <th>852</th>\n",
       "      <td>Auriculares</td>\n",
       "      <td>negativo</td>\n",
       "      <td>No recomiendo este Auriculares, la calidad dej...</td>\n",
       "      <td>recomiendo calidad deja desear incluía accesor...</td>\n",
       "      <td>0</td>\n",
       "    </tr>\n",
       "    <tr>\n",
       "      <th>300</th>\n",
       "      <td>Auriculares</td>\n",
       "      <td>neutro</td>\n",
       "      <td>El Auriculares es aceptable, cumple con lo pro...</td>\n",
       "      <td>aceptable cumple prometido sobresaliente entre...</td>\n",
       "      <td>1</td>\n",
       "    </tr>\n",
       "    <tr>\n",
       "      <th>248</th>\n",
       "      <td>Impresora</td>\n",
       "      <td>positivo</td>\n",
       "      <td>Encantado con mi nuevo Impresora, vale cada pe...</td>\n",
       "      <td>encantado nuevo vale cada peso invertido inclu...</td>\n",
       "      <td>2</td>\n",
       "    </tr>\n",
       "    <tr>\n",
       "      <th>910</th>\n",
       "      <td>Tablet</td>\n",
       "      <td>negativo</td>\n",
       "      <td>Problemas constantes con el Tablet, mala exper...</td>\n",
       "      <td>problemas constantes mala experiencia compra l...</td>\n",
       "      <td>0</td>\n",
       "    </tr>\n",
       "    <tr>\n",
       "      <th>8</th>\n",
       "      <td>Laptop</td>\n",
       "      <td>neutro</td>\n",
       "      <td>Cumple su función básica, el Laptop no destaca...</td>\n",
       "      <td>cumple función básica destaca</td>\n",
       "      <td>1</td>\n",
       "    </tr>\n",
       "    <tr>\n",
       "      <th>7</th>\n",
       "      <td>Laptop</td>\n",
       "      <td>negativo</td>\n",
       "      <td>Problemas constantes con el Laptop, mala exper...</td>\n",
       "      <td>problemas constantes mala experiencia compra</td>\n",
       "      <td>0</td>\n",
       "    </tr>\n",
       "    <tr>\n",
       "      <th>20</th>\n",
       "      <td>Cámara</td>\n",
       "      <td>neutro</td>\n",
       "      <td>Un Cámara promedio, ni muy bueno ni muy malo. ...</td>\n",
       "      <td>promedio bueno malo entrega lenta</td>\n",
       "      <td>1</td>\n",
       "    </tr>\n",
       "    <tr>\n",
       "      <th>100</th>\n",
       "      <td>Teclado</td>\n",
       "      <td>negativo</td>\n",
       "      <td>Muy decepcionado con el Teclado, dejó de funci...</td>\n",
       "      <td>decepcionado dejó funcionar semana incluía acc...</td>\n",
       "      <td>0</td>\n",
       "    </tr>\n",
       "    <tr>\n",
       "      <th>4</th>\n",
       "      <td>Tablet</td>\n",
       "      <td>negativo</td>\n",
       "      <td>Problemas constantes con el Tablet, mala exper...</td>\n",
       "      <td>problemas constantes mala experiencia compra i...</td>\n",
       "      <td>0</td>\n",
       "    </tr>\n",
       "  </tbody>\n",
       "</table>\n",
       "</div>"
      ],
      "text/plain": [
       "        producto sentimiento  \\\n",
       "912      Teclado    positivo   \n",
       "149    Altavoces      neutro   \n",
       "0    Auriculares    positivo   \n",
       "49        Laptop      neutro   \n",
       "45        Cámara    negativo   \n",
       "109    Impresora      neutro   \n",
       "331    Impresora    negativo   \n",
       "168      Teclado    negativo   \n",
       "254   Smartwatch      neutro   \n",
       "5         Tablet    positivo   \n",
       "540    Altavoces      neutro   \n",
       "558   Smartphone    positivo   \n",
       "360  Auriculares    negativo   \n",
       "262   Smartphone    positivo   \n",
       "6      Altavoces    negativo   \n",
       "299   Smartwatch      neutro   \n",
       "364   Smartwatch    negativo   \n",
       "65       Monitor    positivo   \n",
       "1      Altavoces      neutro   \n",
       "413       Cámara    negativo   \n",
       "2      Altavoces    positivo   \n",
       "19       Monitor    positivo   \n",
       "153   Smartphone    positivo   \n",
       "492    Altavoces      neutro   \n",
       "852  Auriculares    negativo   \n",
       "300  Auriculares      neutro   \n",
       "248    Impresora    positivo   \n",
       "910       Tablet    negativo   \n",
       "8         Laptop      neutro   \n",
       "7         Laptop    negativo   \n",
       "20        Cámara      neutro   \n",
       "100      Teclado    negativo   \n",
       "4         Tablet    negativo   \n",
       "\n",
       "                                                reseña  \\\n",
       "912  Funciona de maravilla, el Teclado es rápido y ...   \n",
       "149  El Altavoces es aceptable, cumple con lo prome...   \n",
       "0    Funciona de maravilla, el Auriculares es rápid...   \n",
       "49   El Laptop es aceptable, cumple con lo prometid...   \n",
       "45   Problemas constantes con el Cámara, mala exper...   \n",
       "109  Cumple su función básica, el Impresora no dest...   \n",
       "331  Problemas constantes con el Impresora, mala ex...   \n",
       "168  No recomiendo este Teclado, la calidad deja mu...   \n",
       "254  El Smartwatch es aceptable, cumple con lo prom...   \n",
       "5    Encantado con mi nuevo Tablet, vale cada peso ...   \n",
       "540  Cumple su función básica, el Altavoces no dest...   \n",
       "558  El Smartphone superó mis expectativas, excelen...   \n",
       "360  Muy decepcionado con el Auriculares, dejó de f...   \n",
       "262  Funciona de maravilla, el Smartphone es rápido...   \n",
       "6    Muy decepcionado con el Altavoces, dejó de fun...   \n",
       "299  Un Smartwatch promedio, ni muy bueno ni muy ma...   \n",
       "364  No recomiendo este Smartwatch, la calidad deja...   \n",
       "65   Funciona de maravilla, el Monitor es rápido y ...   \n",
       "1    El Altavoces es aceptable, cumple con lo prome...   \n",
       "413  No recomiendo este Cámara, la calidad deja muc...   \n",
       "2    El Altavoces superó mis expectativas, excelent...   \n",
       "19   Funciona de maravilla, el Monitor es rápido y ...   \n",
       "153  El Smartphone superó mis expectativas, excelen...   \n",
       "492  Un Altavoces promedio, ni muy bueno ni muy mal...   \n",
       "852  No recomiendo este Auriculares, la calidad dej...   \n",
       "300  El Auriculares es aceptable, cumple con lo pro...   \n",
       "248  Encantado con mi nuevo Impresora, vale cada pe...   \n",
       "910  Problemas constantes con el Tablet, mala exper...   \n",
       "8    Cumple su función básica, el Laptop no destaca...   \n",
       "7    Problemas constantes con el Laptop, mala exper...   \n",
       "20   Un Cámara promedio, ni muy bueno ni muy malo. ...   \n",
       "100  Muy decepcionado con el Teclado, dejó de funci...   \n",
       "4    Problemas constantes con el Tablet, mala exper...   \n",
       "\n",
       "                                         reseña_limpia  sentimiento_numerico  \n",
       "912  funciona maravilla rápido confiable entrega lenta                     2  \n",
       "149  aceptable cumple prometido sobresaliente inclu...                     1  \n",
       "0                  funciona maravilla rápido confiable                     2  \n",
       "49   aceptable cumple prometido sobresaliente llegó...                     1  \n",
       "45   problemas constantes mala experiencia compra s...                     0  \n",
       "109        cumple función básica destaca entrega lenta                     1  \n",
       "331  problemas constantes mala experiencia compra e...                     0  \n",
       "168  recomiendo calidad deja desear ser reemplazado...                     0  \n",
       "254  aceptable cumple prometido sobresaliente ser r...                     1  \n",
       "5             encantado nuevo vale cada peso invertido                     2  \n",
       "540        cumple función básica destaca llegó rasguño                     1  \n",
       "558  superó expectativas excelente calidad buen ren...                     2  \n",
       "360  decepcionado dejó funcionar semana ser reempla...                     0  \n",
       "262  funciona maravilla rápido confiable ser reempl...                     2  \n",
       "6                   decepcionado dejó funcionar semana                     0  \n",
       "299                  promedio bueno malo llegó rasguño                     1  \n",
       "364       recomiendo calidad deja desear llegó rasguño                     0  \n",
       "65   funciona maravilla rápido confiable llegó rasguño                     2  \n",
       "1             aceptable cumple prometido sobresaliente                     1  \n",
       "413       recomiendo calidad deja desear entrega lenta                     0  \n",
       "2    superó expectativas excelente calidad buen ren...                     2  \n",
       "19   funciona maravilla rápido confiable incluía ac...                     2  \n",
       "153  superó expectativas excelente calidad buen ren...                     2  \n",
       "492       promedio bueno malo incluía accesorios extra                     1  \n",
       "852  recomiendo calidad deja desear incluía accesor...                     0  \n",
       "300  aceptable cumple prometido sobresaliente entre...                     1  \n",
       "248  encantado nuevo vale cada peso invertido inclu...                     2  \n",
       "910  problemas constantes mala experiencia compra l...                     0  \n",
       "8                        cumple función básica destaca                     1  \n",
       "7         problemas constantes mala experiencia compra                     0  \n",
       "20                   promedio bueno malo entrega lenta                     1  \n",
       "100  decepcionado dejó funcionar semana incluía acc...                     0  \n",
       "4    problemas constantes mala experiencia compra i...                     0  "
      ]
     },
     "execution_count": 16,
     "metadata": {},
     "output_type": "execute_result"
    }
   ],
   "source": [
    "train_df"
   ]
  },
  {
   "cell_type": "code",
   "execution_count": 17,
   "metadata": {},
   "outputs": [
    {
     "data": {
      "application/vnd.microsoft.datawrangler.viewer.v0+json": {
       "columns": [
        {
         "name": "index",
         "rawType": "int64",
         "type": "integer"
        },
        {
         "name": "producto",
         "rawType": "object",
         "type": "string"
        },
        {
         "name": "sentimiento",
         "rawType": "object",
         "type": "string"
        },
        {
         "name": "reseña",
         "rawType": "object",
         "type": "string"
        },
        {
         "name": "reseña_limpia",
         "rawType": "object",
         "type": "string"
        },
        {
         "name": "sentimiento_numerico",
         "rawType": "int64",
         "type": "integer"
        }
       ],
       "ref": "5a48e580-4caf-4bf2-a123-8eaacc151d16",
       "rows": [
        [
         "164",
         "Altavoces",
         "negativo",
         "Muy decepcionado con el Altavoces, dejó de funcionar a la semana. La entrega fue muy lenta.",
         "decepcionado dejó funcionar semana entrega lenta",
         "0"
        ],
        [
         "794",
         "Smartwatch",
         "negativo",
         "Muy decepcionado con el Smartwatch, dejó de funcionar a la semana. Me llegó con un rasguño.",
         "decepcionado dejó funcionar semana llegó rasguño",
         "0"
        ],
        [
         "121",
         "Monitor",
         "positivo",
         "Encantado con mi nuevo Monitor, vale cada peso invertido. Tuvo que ser reemplazado por garantía.",
         "encantado nuevo vale cada peso invertido ser reemplazado garantía",
         "2"
        ],
        [
         "938",
         "Smartphone",
         "neutro",
         "Cumple su función básica, el Smartphone no destaca en nada. Tuvo que ser reemplazado por garantía.",
         "cumple función básica destaca ser reemplazado garantía",
         "1"
        ],
        [
         "197",
         "Auriculares",
         "neutro",
         "Cumple su función básica, el Auriculares no destaca en nada. Incluía accesorios extra.",
         "cumple función básica destaca incluía accesorios extra",
         "1"
        ],
        [
         "479",
         "Auriculares",
         "positivo",
         "Encantado con mi nuevo Auriculares, vale cada peso invertido. La entrega fue muy lenta.",
         "encantado nuevo vale cada peso invertido entrega lenta",
         "2"
        ],
        [
         "10",
         "Tablet",
         "neutro",
         "Un Tablet promedio, ni muy bueno ni muy malo.",
         "promedio bueno malo",
         "1"
        ],
        [
         "639",
         "Laptop",
         "positivo",
         "Encantado con mi nuevo Laptop, vale cada peso invertido. Me llegó con un rasguño.",
         "encantado nuevo vale cada peso invertido llegó rasguño",
         "2"
        ],
        [
         "16",
         "Monitor",
         "negativo",
         "No recomiendo este Monitor, la calidad deja mucho que desear.",
         "recomiendo calidad deja desear",
         "0"
        ]
       ],
       "shape": {
        "columns": 5,
        "rows": 9
       }
      },
      "text/html": [
       "<div>\n",
       "<style scoped>\n",
       "    .dataframe tbody tr th:only-of-type {\n",
       "        vertical-align: middle;\n",
       "    }\n",
       "\n",
       "    .dataframe tbody tr th {\n",
       "        vertical-align: top;\n",
       "    }\n",
       "\n",
       "    .dataframe thead th {\n",
       "        text-align: right;\n",
       "    }\n",
       "</style>\n",
       "<table border=\"1\" class=\"dataframe\">\n",
       "  <thead>\n",
       "    <tr style=\"text-align: right;\">\n",
       "      <th></th>\n",
       "      <th>producto</th>\n",
       "      <th>sentimiento</th>\n",
       "      <th>reseña</th>\n",
       "      <th>reseña_limpia</th>\n",
       "      <th>sentimiento_numerico</th>\n",
       "    </tr>\n",
       "  </thead>\n",
       "  <tbody>\n",
       "    <tr>\n",
       "      <th>164</th>\n",
       "      <td>Altavoces</td>\n",
       "      <td>negativo</td>\n",
       "      <td>Muy decepcionado con el Altavoces, dejó de fun...</td>\n",
       "      <td>decepcionado dejó funcionar semana entrega lenta</td>\n",
       "      <td>0</td>\n",
       "    </tr>\n",
       "    <tr>\n",
       "      <th>794</th>\n",
       "      <td>Smartwatch</td>\n",
       "      <td>negativo</td>\n",
       "      <td>Muy decepcionado con el Smartwatch, dejó de fu...</td>\n",
       "      <td>decepcionado dejó funcionar semana llegó rasguño</td>\n",
       "      <td>0</td>\n",
       "    </tr>\n",
       "    <tr>\n",
       "      <th>121</th>\n",
       "      <td>Monitor</td>\n",
       "      <td>positivo</td>\n",
       "      <td>Encantado con mi nuevo Monitor, vale cada peso...</td>\n",
       "      <td>encantado nuevo vale cada peso invertido ser r...</td>\n",
       "      <td>2</td>\n",
       "    </tr>\n",
       "    <tr>\n",
       "      <th>938</th>\n",
       "      <td>Smartphone</td>\n",
       "      <td>neutro</td>\n",
       "      <td>Cumple su función básica, el Smartphone no des...</td>\n",
       "      <td>cumple función básica destaca ser reemplazado ...</td>\n",
       "      <td>1</td>\n",
       "    </tr>\n",
       "    <tr>\n",
       "      <th>197</th>\n",
       "      <td>Auriculares</td>\n",
       "      <td>neutro</td>\n",
       "      <td>Cumple su función básica, el Auriculares no de...</td>\n",
       "      <td>cumple función básica destaca incluía accesori...</td>\n",
       "      <td>1</td>\n",
       "    </tr>\n",
       "    <tr>\n",
       "      <th>479</th>\n",
       "      <td>Auriculares</td>\n",
       "      <td>positivo</td>\n",
       "      <td>Encantado con mi nuevo Auriculares, vale cada ...</td>\n",
       "      <td>encantado nuevo vale cada peso invertido entre...</td>\n",
       "      <td>2</td>\n",
       "    </tr>\n",
       "    <tr>\n",
       "      <th>10</th>\n",
       "      <td>Tablet</td>\n",
       "      <td>neutro</td>\n",
       "      <td>Un Tablet promedio, ni muy bueno ni muy malo.</td>\n",
       "      <td>promedio bueno malo</td>\n",
       "      <td>1</td>\n",
       "    </tr>\n",
       "    <tr>\n",
       "      <th>639</th>\n",
       "      <td>Laptop</td>\n",
       "      <td>positivo</td>\n",
       "      <td>Encantado con mi nuevo Laptop, vale cada peso ...</td>\n",
       "      <td>encantado nuevo vale cada peso invertido llegó...</td>\n",
       "      <td>2</td>\n",
       "    </tr>\n",
       "    <tr>\n",
       "      <th>16</th>\n",
       "      <td>Monitor</td>\n",
       "      <td>negativo</td>\n",
       "      <td>No recomiendo este Monitor, la calidad deja mu...</td>\n",
       "      <td>recomiendo calidad deja desear</td>\n",
       "      <td>0</td>\n",
       "    </tr>\n",
       "  </tbody>\n",
       "</table>\n",
       "</div>"
      ],
      "text/plain": [
       "        producto sentimiento  \\\n",
       "164    Altavoces    negativo   \n",
       "794   Smartwatch    negativo   \n",
       "121      Monitor    positivo   \n",
       "938   Smartphone      neutro   \n",
       "197  Auriculares      neutro   \n",
       "479  Auriculares    positivo   \n",
       "10        Tablet      neutro   \n",
       "639       Laptop    positivo   \n",
       "16       Monitor    negativo   \n",
       "\n",
       "                                                reseña  \\\n",
       "164  Muy decepcionado con el Altavoces, dejó de fun...   \n",
       "794  Muy decepcionado con el Smartwatch, dejó de fu...   \n",
       "121  Encantado con mi nuevo Monitor, vale cada peso...   \n",
       "938  Cumple su función básica, el Smartphone no des...   \n",
       "197  Cumple su función básica, el Auriculares no de...   \n",
       "479  Encantado con mi nuevo Auriculares, vale cada ...   \n",
       "10       Un Tablet promedio, ni muy bueno ni muy malo.   \n",
       "639  Encantado con mi nuevo Laptop, vale cada peso ...   \n",
       "16   No recomiendo este Monitor, la calidad deja mu...   \n",
       "\n",
       "                                         reseña_limpia  sentimiento_numerico  \n",
       "164   decepcionado dejó funcionar semana entrega lenta                     0  \n",
       "794   decepcionado dejó funcionar semana llegó rasguño                     0  \n",
       "121  encantado nuevo vale cada peso invertido ser r...                     2  \n",
       "938  cumple función básica destaca ser reemplazado ...                     1  \n",
       "197  cumple función básica destaca incluía accesori...                     1  \n",
       "479  encantado nuevo vale cada peso invertido entre...                     2  \n",
       "10                                 promedio bueno malo                     1  \n",
       "639  encantado nuevo vale cada peso invertido llegó...                     2  \n",
       "16                      recomiendo calidad deja desear                     0  "
      ]
     },
     "execution_count": 17,
     "metadata": {},
     "output_type": "execute_result"
    }
   ],
   "source": [
    "test_df"
   ]
  },
  {
   "cell_type": "markdown",
   "metadata": {},
   "source": [
    "# END\n",
    "---"
   ]
  }
 ],
 "metadata": {
  "kernelspec": {
   "display_name": "venv_comfama",
   "language": "python",
   "name": "python3"
  },
  "language_info": {
   "codemirror_mode": {
    "name": "ipython",
    "version": 3
   },
   "file_extension": ".py",
   "mimetype": "text/x-python",
   "name": "python",
   "nbconvert_exporter": "python",
   "pygments_lexer": "ipython3",
   "version": "3.9.6"
  }
 },
 "nbformat": 4,
 "nbformat_minor": 2
}
